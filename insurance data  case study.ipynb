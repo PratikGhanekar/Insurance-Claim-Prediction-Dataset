{
 "cells": [
  {
   "cell_type": "raw",
   "id": "e062b33b",
   "metadata": {},
   "source": [
    "About Dataset\n",
    "age : age of policyholder\n",
    "sex: gender of policy holder (female=0, male=1)\n",
    "bmi: Body mass index, providing an understanding of body, weights that are relatively high or low relative to height, objective index of body weight (kg / m ^ 2) using the ratio of height to weight, ideally 18.5 to 25\n",
    "children: number of children / dependents of policyholder\n",
    "smoker: smoking state of policyholder (non-smoke=0;smoker=1)\n",
    "region: the residential area of policyholder in the US (northeast=0, northwest=1, southeast=2, southwest=3)\n",
    "charges: individual medical costs billed by health insurance\n",
    "insuranceclaim: yes=1, no=0"
   ]
  },
  {
   "cell_type": "raw",
   "id": "6e246dce",
   "metadata": {},
   "source": [
    "#here target is insuranceclaim \n",
    "#it is classification algo\n",
    "#to predict customer will claim or not"
   ]
  },
  {
   "cell_type": "code",
   "execution_count": 1,
   "id": "c451a4d0",
   "metadata": {},
   "outputs": [
    {
     "data": {
      "text/plain": [
       "'/Users/pratikghanekar/Desktop/ML/case study'"
      ]
     },
     "execution_count": 1,
     "metadata": {},
     "output_type": "execute_result"
    }
   ],
   "source": [
    "import os\n",
    "os.getcwd()"
   ]
  },
  {
   "cell_type": "code",
   "execution_count": 2,
   "id": "e3b8f9b5",
   "metadata": {},
   "outputs": [],
   "source": [
    "#import standard lib\n",
    "import numpy as np\n",
    "import pandas as pd\n",
    "import matplotlib.pyplot as plt\n",
    "import seaborn as sb\n",
    "import warnings\n",
    "warnings.filterwarnings('ignore')"
   ]
  },
  {
   "cell_type": "code",
   "execution_count": 3,
   "id": "9c705760",
   "metadata": {},
   "outputs": [
    {
     "data": {
      "text/html": [
       "<div>\n",
       "<style scoped>\n",
       "    .dataframe tbody tr th:only-of-type {\n",
       "        vertical-align: middle;\n",
       "    }\n",
       "\n",
       "    .dataframe tbody tr th {\n",
       "        vertical-align: top;\n",
       "    }\n",
       "\n",
       "    .dataframe thead th {\n",
       "        text-align: right;\n",
       "    }\n",
       "</style>\n",
       "<table border=\"1\" class=\"dataframe\">\n",
       "  <thead>\n",
       "    <tr style=\"text-align: right;\">\n",
       "      <th></th>\n",
       "      <th>age</th>\n",
       "      <th>sex</th>\n",
       "      <th>bmi</th>\n",
       "      <th>children</th>\n",
       "      <th>smoker</th>\n",
       "      <th>region</th>\n",
       "      <th>charges</th>\n",
       "      <th>insuranceclaim</th>\n",
       "    </tr>\n",
       "  </thead>\n",
       "  <tbody>\n",
       "    <tr>\n",
       "      <th>0</th>\n",
       "      <td>19</td>\n",
       "      <td>0</td>\n",
       "      <td>27.900</td>\n",
       "      <td>0</td>\n",
       "      <td>1</td>\n",
       "      <td>3</td>\n",
       "      <td>16884.92400</td>\n",
       "      <td>1</td>\n",
       "    </tr>\n",
       "    <tr>\n",
       "      <th>1</th>\n",
       "      <td>18</td>\n",
       "      <td>1</td>\n",
       "      <td>33.770</td>\n",
       "      <td>1</td>\n",
       "      <td>0</td>\n",
       "      <td>2</td>\n",
       "      <td>1725.55230</td>\n",
       "      <td>1</td>\n",
       "    </tr>\n",
       "    <tr>\n",
       "      <th>2</th>\n",
       "      <td>28</td>\n",
       "      <td>1</td>\n",
       "      <td>33.000</td>\n",
       "      <td>3</td>\n",
       "      <td>0</td>\n",
       "      <td>2</td>\n",
       "      <td>4449.46200</td>\n",
       "      <td>0</td>\n",
       "    </tr>\n",
       "    <tr>\n",
       "      <th>3</th>\n",
       "      <td>33</td>\n",
       "      <td>1</td>\n",
       "      <td>22.705</td>\n",
       "      <td>0</td>\n",
       "      <td>0</td>\n",
       "      <td>1</td>\n",
       "      <td>21984.47061</td>\n",
       "      <td>0</td>\n",
       "    </tr>\n",
       "    <tr>\n",
       "      <th>4</th>\n",
       "      <td>32</td>\n",
       "      <td>1</td>\n",
       "      <td>28.880</td>\n",
       "      <td>0</td>\n",
       "      <td>0</td>\n",
       "      <td>1</td>\n",
       "      <td>3866.85520</td>\n",
       "      <td>1</td>\n",
       "    </tr>\n",
       "  </tbody>\n",
       "</table>\n",
       "</div>"
      ],
      "text/plain": [
       "   age  sex     bmi  children  smoker  region      charges  insuranceclaim\n",
       "0   19    0  27.900         0       1       3  16884.92400               1\n",
       "1   18    1  33.770         1       0       2   1725.55230               1\n",
       "2   28    1  33.000         3       0       2   4449.46200               0\n",
       "3   33    1  22.705         0       0       1  21984.47061               0\n",
       "4   32    1  28.880         0       0       1   3866.85520               1"
      ]
     },
     "execution_count": 3,
     "metadata": {},
     "output_type": "execute_result"
    }
   ],
   "source": [
    "#to load csv file using pandas features read_csv\n",
    "df=pd.read_csv('insurance.csv')\n",
    "df.head()\n",
    "#here target is insuranceclaim \n",
    "#it is classification algo\n",
    "#customer will claim or not"
   ]
  },
  {
   "cell_type": "code",
   "execution_count": 4,
   "id": "a09cb785",
   "metadata": {},
   "outputs": [
    {
     "data": {
      "text/plain": [
       "age               0\n",
       "sex               0\n",
       "bmi               0\n",
       "children          0\n",
       "smoker            0\n",
       "region            0\n",
       "charges           0\n",
       "insuranceclaim    0\n",
       "dtype: int64"
      ]
     },
     "execution_count": 4,
     "metadata": {},
     "output_type": "execute_result"
    }
   ],
   "source": [
    "#check null values\n",
    "df.isnull().sum()"
   ]
  },
  {
   "cell_type": "code",
   "execution_count": 5,
   "id": "2c6d1e6e",
   "metadata": {},
   "outputs": [
    {
     "data": {
      "image/png": "[encoded data removed]",
      "text/plain": [
       "<Figure size 432x288 with 2 Axes>"
      ]
     },
     "metadata": {
      "needs_background": "light"
     },
     "output_type": "display_data"
    }
   ],
   "source": [
    "#check null values in visualise form using seaborn lib heatmap fn\n",
    "sb.heatmap(df.isnull())\n",
    "plt.show()\n",
    "#there is no null values"
   ]
  },
  {
   "cell_type": "code",
   "execution_count": 6,
   "id": "1d416de6",
   "metadata": {},
   "outputs": [
    {
     "data": {
      "text/plain": [
       "(1338, 8)"
      ]
     },
     "execution_count": 6,
     "metadata": {},
     "output_type": "execute_result"
    }
   ],
   "source": [
    "#check how many rows and col\n",
    "df.shape"
   ]
  },
  {
   "cell_type": "code",
   "execution_count": 7,
   "id": "0cb7e003",
   "metadata": {},
   "outputs": [
    {
     "data": {
      "text/plain": [
       "age                 int64\n",
       "sex                 int64\n",
       "bmi               float64\n",
       "children            int64\n",
       "smoker              int64\n",
       "region              int64\n",
       "charges           float64\n",
       "insuranceclaim      int64\n",
       "dtype: object"
      ]
     },
     "execution_count": 7,
     "metadata": {},
     "output_type": "execute_result"
    }
   ],
   "source": [
    "#check datatypes\n",
    "df.dtypes"
   ]
  },
  {
   "cell_type": "code",
   "execution_count": 8,
   "id": "c14ba966",
   "metadata": {},
   "outputs": [
    {
     "data": {
      "text/plain": [
       "1"
      ]
     },
     "execution_count": 8,
     "metadata": {},
     "output_type": "execute_result"
    }
   ],
   "source": [
    "#check duplicated values\n",
    "df.duplicated().sum()"
   ]
  },
  {
   "cell_type": "code",
   "execution_count": 9,
   "id": "6ab02d00",
   "metadata": {},
   "outputs": [
    {
     "data": {
      "text/html": [
       "<div>\n",
       "<style scoped>\n",
       "    .dataframe tbody tr th:only-of-type {\n",
       "        vertical-align: middle;\n",
       "    }\n",
       "\n",
       "    .dataframe tbody tr th {\n",
       "        vertical-align: top;\n",
       "    }\n",
       "\n",
       "    .dataframe thead th {\n",
       "        text-align: right;\n",
       "    }\n",
       "</style>\n",
       "<table border=\"1\" class=\"dataframe\">\n",
       "  <thead>\n",
       "    <tr style=\"text-align: right;\">\n",
       "      <th></th>\n",
       "      <th>age</th>\n",
       "      <th>sex</th>\n",
       "      <th>bmi</th>\n",
       "      <th>children</th>\n",
       "      <th>smoker</th>\n",
       "      <th>region</th>\n",
       "      <th>charges</th>\n",
       "      <th>insuranceclaim</th>\n",
       "    </tr>\n",
       "  </thead>\n",
       "  <tbody>\n",
       "    <tr>\n",
       "      <th>581</th>\n",
       "      <td>19</td>\n",
       "      <td>1</td>\n",
       "      <td>30.59</td>\n",
       "      <td>0</td>\n",
       "      <td>0</td>\n",
       "      <td>1</td>\n",
       "      <td>1639.5631</td>\n",
       "      <td>1</td>\n",
       "    </tr>\n",
       "  </tbody>\n",
       "</table>\n",
       "</div>"
      ],
      "text/plain": [
       "     age  sex    bmi  children  smoker  region    charges  insuranceclaim\n",
       "581   19    1  30.59         0       0       1  1639.5631               1"
      ]
     },
     "execution_count": 9,
     "metadata": {},
     "output_type": "execute_result"
    }
   ],
   "source": [
    "#here 1 duplicated values \n",
    "#check this values\n",
    "df[df.duplicated()]"
   ]
  },
  {
   "cell_type": "code",
   "execution_count": 10,
   "id": "7ca21b90",
   "metadata": {},
   "outputs": [],
   "source": [
    "#to remove duplicated value\n",
    "df.drop_duplicates(inplace=True)"
   ]
  },
  {
   "cell_type": "code",
   "execution_count": 11,
   "id": "0dca63d6",
   "metadata": {},
   "outputs": [
    {
     "data": {
      "text/plain": [
       "0"
      ]
     },
     "execution_count": 11,
     "metadata": {},
     "output_type": "execute_result"
    }
   ],
   "source": [
    "#check again duplicated values\n",
    "df.duplicated().sum()"
   ]
  },
  {
   "cell_type": "code",
   "execution_count": 12,
   "id": "9b52e4a7",
   "metadata": {},
   "outputs": [],
   "source": [
    "#select input and output\n",
    "X=df.drop('insuranceclaim',axis=1) #select input\n",
    "Y=df['insuranceclaim'] #select output"
   ]
  },
  {
   "cell_type": "code",
   "execution_count": 13,
   "id": "b836a303",
   "metadata": {},
   "outputs": [],
   "source": [
    "#apply train test split to train the data \n",
    "from sklearn.model_selection import train_test_split\n",
    "X_train,X_test,Y_train,Y_test=train_test_split(X,Y,test_size=0.3,\n",
    "                                              random_state=1)"
   ]
  },
  {
   "cell_type": "code",
   "execution_count": 14,
   "id": "5de66123",
   "metadata": {},
   "outputs": [],
   "source": [
    "#apply standard scaler on input\n",
    "from sklearn.preprocessing import StandardScaler\n",
    "#create object of StandardScaler\n",
    "ss=StandardScaler()\n",
    "X_train=ss.fit_transform(X_train,Y_train) #convert to numpy array\n",
    "X_test=ss.transform(X_test) #convert to numpy array"
   ]
  },
  {
   "cell_type": "code",
   "execution_count": 15,
   "id": "85f6589d",
   "metadata": {},
   "outputs": [
    {
     "data": {
      "text/plain": [
       "array([[ 0.76935907, -1.05611771, -0.54584829, ..., -0.53158148,\n",
       "        -1.38997482,  0.97973397],\n",
       "       [ 1.34169182, -1.05611771, -0.57768002, ..., -0.53158148,\n",
       "        -0.48304777, -0.11634023],\n",
       "       [ 1.5563166 ,  0.94686415,  0.91841121, ..., -0.53158148,\n",
       "         1.33080632,  1.16614713],\n",
       "       ...,\n",
       "       [-1.23380557,  0.94686415,  0.5280537 , ..., -0.53158148,\n",
       "         0.42387927, -0.97698935],\n",
       "       [ 0.05394313, -1.05611771, -1.40698031, ...,  1.88117914,\n",
       "         0.42387927,  0.47286216],\n",
       "       [ 1.41323342,  0.94686415,  1.76278969, ...,  1.88117914,\n",
       "         0.42387927,  2.88193206]])"
      ]
     },
     "execution_count": 15,
     "metadata": {},
     "output_type": "execute_result"
    }
   ],
   "source": [
    "X_train"
   ]
  },
  {
   "cell_type": "code",
   "execution_count": 16,
   "id": "09b529a3",
   "metadata": {},
   "outputs": [],
   "source": [
    "#create fn\n",
    "def create_model(model):\n",
    "    \n",
    "    #train the data with 70%\n",
    "    model.fit(X_train,Y_train)\n",
    "    \n",
    "    #test the data with 30%\n",
    "    Y_pred=model.predict(X_test)\n",
    "    \n",
    "    #to generate report\n",
    "    print(classification_report(Y_test,Y_pred))\n",
    "    print(confusion_matrix(Y_test,Y_pred))\n",
    "    \n",
    "    return model"
   ]
  },
  {
   "cell_type": "code",
   "execution_count": 17,
   "id": "ab083099",
   "metadata": {},
   "outputs": [],
   "source": [
    "from sklearn.metrics import classification_report,confusion_matrix"
   ]
  },
  {
   "cell_type": "code",
   "execution_count": 18,
   "id": "27886960",
   "metadata": {},
   "outputs": [],
   "source": [
    "#to give dataset to LogisticRegression\n",
    "from sklearn.linear_model import LogisticRegression"
   ]
  },
  {
   "cell_type": "code",
   "execution_count": 19,
   "id": "de444fda",
   "metadata": {},
   "outputs": [],
   "source": [
    "#create object of LogisticRegression class\n",
    "lr=LogisticRegression()"
   ]
  },
  {
   "cell_type": "code",
   "execution_count": 20,
   "id": "b83b634b",
   "metadata": {},
   "outputs": [
    {
     "name": "stdout",
     "output_type": "stream",
     "text": [
      "              precision    recall  f1-score   support\n",
      "\n",
      "           0       0.88      0.85      0.86       172\n",
      "           1       0.89      0.91      0.90       230\n",
      "\n",
      "    accuracy                           0.89       402\n",
      "   macro avg       0.88      0.88      0.88       402\n",
      "weighted avg       0.89      0.89      0.89       402\n",
      "\n",
      "[[147  25]\n",
      " [ 21 209]]\n"
     ]
    }
   ],
   "source": [
    "#call fn\n",
    "lr=create_model(lr)\n",
    "#here recall is 91% which is good "
   ]
  },
  {
   "cell_type": "code",
   "execution_count": 21,
   "id": "2ba6cc46",
   "metadata": {},
   "outputs": [],
   "source": [
    "#give dataset to DT by default gini\n",
    "from sklearn.tree import DecisionTreeClassifier"
   ]
  },
  {
   "cell_type": "code",
   "execution_count": 22,
   "id": "da0262b7",
   "metadata": {},
   "outputs": [],
   "source": [
    "#create object of DecisionTreeClassifier class\n",
    "dt=DecisionTreeClassifier(random_state=1)"
   ]
  },
  {
   "cell_type": "code",
   "execution_count": 23,
   "id": "59ae5ec4",
   "metadata": {},
   "outputs": [
    {
     "name": "stdout",
     "output_type": "stream",
     "text": [
      "              precision    recall  f1-score   support\n",
      "\n",
      "           0       0.95      0.98      0.96       172\n",
      "           1       0.98      0.96      0.97       230\n",
      "\n",
      "    accuracy                           0.97       402\n",
      "   macro avg       0.97      0.97      0.97       402\n",
      "weighted avg       0.97      0.97      0.97       402\n",
      "\n",
      "[[168   4]\n",
      " [  9 221]]\n"
     ]
    }
   ],
   "source": [
    "#call fn\n",
    "dt=create_model(dt)\n",
    "#here recall is 96% "
   ]
  },
  {
   "cell_type": "code",
   "execution_count": 24,
   "id": "fbec2978",
   "metadata": {},
   "outputs": [
    {
     "data": {
      "text/html": [
       "<div>\n",
       "<style scoped>\n",
       "    .dataframe tbody tr th:only-of-type {\n",
       "        vertical-align: middle;\n",
       "    }\n",
       "\n",
       "    .dataframe tbody tr th {\n",
       "        vertical-align: top;\n",
       "    }\n",
       "\n",
       "    .dataframe thead th {\n",
       "        text-align: right;\n",
       "    }\n",
       "</style>\n",
       "<table border=\"1\" class=\"dataframe\">\n",
       "  <thead>\n",
       "    <tr style=\"text-align: right;\">\n",
       "      <th></th>\n",
       "      <th>input</th>\n",
       "      <th>IG</th>\n",
       "    </tr>\n",
       "  </thead>\n",
       "  <tbody>\n",
       "    <tr>\n",
       "      <th>0</th>\n",
       "      <td>children</td>\n",
       "      <td>0.377550</td>\n",
       "    </tr>\n",
       "    <tr>\n",
       "      <th>1</th>\n",
       "      <td>bmi</td>\n",
       "      <td>0.330158</td>\n",
       "    </tr>\n",
       "    <tr>\n",
       "      <th>2</th>\n",
       "      <td>smoker</td>\n",
       "      <td>0.180860</td>\n",
       "    </tr>\n",
       "    <tr>\n",
       "      <th>3</th>\n",
       "      <td>age</td>\n",
       "      <td>0.082568</td>\n",
       "    </tr>\n",
       "    <tr>\n",
       "      <th>4</th>\n",
       "      <td>charges</td>\n",
       "      <td>0.028864</td>\n",
       "    </tr>\n",
       "    <tr>\n",
       "      <th>5</th>\n",
       "      <td>sex</td>\n",
       "      <td>0.000000</td>\n",
       "    </tr>\n",
       "    <tr>\n",
       "      <th>6</th>\n",
       "      <td>region</td>\n",
       "      <td>0.000000</td>\n",
       "    </tr>\n",
       "  </tbody>\n",
       "</table>\n",
       "</div>"
      ],
      "text/plain": [
       "      input        IG\n",
       "0  children  0.377550\n",
       "1       bmi  0.330158\n",
       "2    smoker  0.180860\n",
       "3       age  0.082568\n",
       "4   charges  0.028864\n",
       "5       sex  0.000000\n",
       "6    region  0.000000"
      ]
     },
     "execution_count": 24,
     "metadata": {},
     "output_type": "execute_result"
    }
   ],
   "source": [
    "#check IG\n",
    "dict={\"input\":X.columns,\"IG\":dt.feature_importances_}\n",
    "#convert to dataframe\n",
    "df1=pd.DataFrame(dict)\n",
    "#apply sorting\n",
    "df1.sort_values(\"IG\",ascending=False,ignore_index=True)\n",
    "#here IG of children,bmi,smoker is good "
   ]
  },
  {
   "cell_type": "raw",
   "id": "bf8c8b21",
   "metadata": {},
   "source": [
    "#to create tree\n",
    "from sklearn import tree\n",
    "features=X.columns\n",
    "plt.figure(figsize=(70,70))\n",
    "_=tree.plot_tree(dt,feature_names=features,filled=True)\n",
    "plt.show() "
   ]
  },
  {
   "cell_type": "raw",
   "id": "9f9aa867",
   "metadata": {},
   "source": [
    "#apply pruning tech to avoid overfiting of model\n",
    "#1 :max depth \n",
    "#max depth not more than 8\n",
    "for i in range (1,9):\n",
    "    #create object of DecisionTreeClassifier\n",
    "    dt1=DecisionTreeClassifier(random_state=1,max_depth=i)\n",
    "    print(\"max depth \",i)\n",
    "    #call fn\n",
    "    dt1=create_model(dt1)"
   ]
  },
  {
   "cell_type": "code",
   "execution_count": 25,
   "id": "2a3a4e49",
   "metadata": {},
   "outputs": [
    {
     "name": "stdout",
     "output_type": "stream",
     "text": [
      "              precision    recall  f1-score   support\n",
      "\n",
      "           0       0.93      0.95      0.94       172\n",
      "           1       0.96      0.94      0.95       230\n",
      "\n",
      "    accuracy                           0.95       402\n",
      "   macro avg       0.94      0.95      0.94       402\n",
      "weighted avg       0.95      0.95      0.95       402\n",
      "\n",
      "[[163   9]\n",
      " [ 13 217]]\n"
     ]
    }
   ],
   "source": [
    "#create object of DecisionTreeClassifier\n",
    "dt1=DecisionTreeClassifier(random_state=1,max_depth=8)\n",
    "#call fn\n",
    "dt1=create_model(dt1)\n",
    "#here recall is 94%"
   ]
  },
  {
   "cell_type": "code",
   "execution_count": 26,
   "id": "8530bbe6",
   "metadata": {},
   "outputs": [
    {
     "data": {
      "text/html": [
       "<div>\n",
       "<style scoped>\n",
       "    .dataframe tbody tr th:only-of-type {\n",
       "        vertical-align: middle;\n",
       "    }\n",
       "\n",
       "    .dataframe tbody tr th {\n",
       "        vertical-align: top;\n",
       "    }\n",
       "\n",
       "    .dataframe thead th {\n",
       "        text-align: right;\n",
       "    }\n",
       "</style>\n",
       "<table border=\"1\" class=\"dataframe\">\n",
       "  <thead>\n",
       "    <tr style=\"text-align: right;\">\n",
       "      <th></th>\n",
       "      <th>input</th>\n",
       "      <th>IG</th>\n",
       "    </tr>\n",
       "  </thead>\n",
       "  <tbody>\n",
       "    <tr>\n",
       "      <th>0</th>\n",
       "      <td>children</td>\n",
       "      <td>0.396539</td>\n",
       "    </tr>\n",
       "    <tr>\n",
       "      <th>1</th>\n",
       "      <td>bmi</td>\n",
       "      <td>0.300599</td>\n",
       "    </tr>\n",
       "    <tr>\n",
       "      <th>2</th>\n",
       "      <td>smoker</td>\n",
       "      <td>0.194738</td>\n",
       "    </tr>\n",
       "    <tr>\n",
       "      <th>3</th>\n",
       "      <td>age</td>\n",
       "      <td>0.081046</td>\n",
       "    </tr>\n",
       "    <tr>\n",
       "      <th>4</th>\n",
       "      <td>charges</td>\n",
       "      <td>0.027078</td>\n",
       "    </tr>\n",
       "    <tr>\n",
       "      <th>5</th>\n",
       "      <td>sex</td>\n",
       "      <td>0.000000</td>\n",
       "    </tr>\n",
       "    <tr>\n",
       "      <th>6</th>\n",
       "      <td>region</td>\n",
       "      <td>0.000000</td>\n",
       "    </tr>\n",
       "  </tbody>\n",
       "</table>\n",
       "</div>"
      ],
      "text/plain": [
       "      input        IG\n",
       "0  children  0.396539\n",
       "1       bmi  0.300599\n",
       "2    smoker  0.194738\n",
       "3       age  0.081046\n",
       "4   charges  0.027078\n",
       "5       sex  0.000000\n",
       "6    region  0.000000"
      ]
     },
     "execution_count": 26,
     "metadata": {},
     "output_type": "execute_result"
    }
   ],
   "source": [
    "#check IG\n",
    "dict={\"input\":X.columns,\"IG\":dt1.feature_importances_}\n",
    "#convert to dataframe\n",
    "df2=pd.DataFrame(dict)\n",
    "#sorting\n",
    "df2.sort_values(\"IG\",ascending=False,ignore_index=True)\n",
    "#here children,bmi,smoker IG is good "
   ]
  },
  {
   "cell_type": "raw",
   "id": "e8987868",
   "metadata": {},
   "source": [
    "#to create tree\n",
    "from sklearn import tree\n",
    "features=X.columns\n",
    "plt.figure(figsize=(70,70))\n",
    "_=tree.plot_tree(dt1,feature_names=features,filled=True)\n",
    "plt.show()"
   ]
  },
  {
   "cell_type": "raw",
   "id": "29bbef10",
   "metadata": {},
   "source": [
    "#min samples leaf\n",
    "for i in range(45,101):\n",
    "    #crate object of DecisionTreeClassifier\n",
    "    dt2=DecisionTreeClassifier(random_state=1,min_samples_leaf=i)\n",
    "    print(\"min samples leaf \",i)\n",
    "    #call fn\n",
    "    dt2=create_model(dt2)"
   ]
  },
  {
   "cell_type": "code",
   "execution_count": 27,
   "id": "fd333008",
   "metadata": {},
   "outputs": [
    {
     "name": "stdout",
     "output_type": "stream",
     "text": [
      "              precision    recall  f1-score   support\n",
      "\n",
      "           0       0.81      0.89      0.85       172\n",
      "           1       0.91      0.85      0.88       230\n",
      "\n",
      "    accuracy                           0.87       402\n",
      "   macro avg       0.86      0.87      0.86       402\n",
      "weighted avg       0.87      0.87      0.87       402\n",
      "\n",
      "[[153  19]\n",
      " [ 35 195]]\n"
     ]
    }
   ],
   "source": [
    "#crate object of DecisionTreeClassifier\n",
    "dt2=DecisionTreeClassifier(random_state=1,min_samples_leaf=45)\n",
    "#call fn\n",
    "dt2=create_model(dt2)\n",
    "#here recall is 85%"
   ]
  },
  {
   "cell_type": "markdown",
   "id": "d7f87c3f",
   "metadata": {},
   "source": [
    "#draw tree\n",
    "from sklearn import tree\n",
    "features=X.columns\n",
    "plt.figure(figsize=(70,70))\n",
    "_=tree.plot_tree(dt_entropy,feature_names=features,filled=True)\n",
    "plt.show()"
   ]
  },
  {
   "cell_type": "code",
   "execution_count": 28,
   "id": "29f9e849",
   "metadata": {},
   "outputs": [],
   "source": [
    "#give dataset to DT entropy\n",
    "from sklearn.tree import DecisionTreeClassifier"
   ]
  },
  {
   "cell_type": "code",
   "execution_count": 29,
   "id": "b3daec02",
   "metadata": {},
   "outputs": [],
   "source": [
    "#create object of DecisionTreeClassifier class\n",
    "dt_entropy=DecisionTreeClassifier(random_state=1,criterion='entropy')"
   ]
  },
  {
   "cell_type": "code",
   "execution_count": 30,
   "id": "9955b8c2",
   "metadata": {},
   "outputs": [
    {
     "name": "stdout",
     "output_type": "stream",
     "text": [
      "              precision    recall  f1-score   support\n",
      "\n",
      "           0       0.98      0.99      0.99       172\n",
      "           1       1.00      0.98      0.99       230\n",
      "\n",
      "    accuracy                           0.99       402\n",
      "   macro avg       0.99      0.99      0.99       402\n",
      "weighted avg       0.99      0.99      0.99       402\n",
      "\n",
      "[[171   1]\n",
      " [  4 226]]\n"
     ]
    }
   ],
   "source": [
    "#call fn\n",
    "dt_entropy=create_model(dt_entropy)\n",
    "#here recall is 98% which is good "
   ]
  },
  {
   "cell_type": "markdown",
   "id": "b2da1e44",
   "metadata": {},
   "source": [
    "#draw tree\n",
    "from sklearn import tree\n",
    "features=X.columns\n",
    "plt.figure(figsize=(70,70))\n",
    "_=tree.plot_tree(dt_entropy,feature_names=features,filled=True)\n",
    "plt.show()"
   ]
  },
  {
   "cell_type": "raw",
   "id": "bb1a2b52",
   "metadata": {},
   "source": [
    "#apply pruning tech\n",
    "#1:max depth\n",
    "for i in range (1,9):\n",
    "    #create object of DecisionTreeClassifier class\n",
    "    dt_entropy1=DecisionTreeClassifier(random_state=1,max_depth=i,criterion='entropy')\n",
    "    print(\"max depth\",i)\n",
    "    #call fn\n",
    "    dt_entropy1=create_model(dt_entropy1)"
   ]
  },
  {
   "cell_type": "code",
   "execution_count": 31,
   "id": "62e3f7bc",
   "metadata": {},
   "outputs": [
    {
     "name": "stdout",
     "output_type": "stream",
     "text": [
      "              precision    recall  f1-score   support\n",
      "\n",
      "           0       0.98      0.99      0.99       172\n",
      "           1       0.99      0.99      0.99       230\n",
      "\n",
      "    accuracy                           0.99       402\n",
      "   macro avg       0.99      0.99      0.99       402\n",
      "weighted avg       0.99      0.99      0.99       402\n",
      "\n",
      "[[170   2]\n",
      " [  3 227]]\n"
     ]
    }
   ],
   "source": [
    "#create object of DecisionTreeClassifier class\n",
    "dt_entropy1=DecisionTreeClassifier(random_state=1,max_depth=7,criterion='entropy')\n",
    "#call fn\n",
    "dt_entropy1=create_model(dt_entropy1)\n",
    "#here recall is 99%"
   ]
  },
  {
   "cell_type": "code",
   "execution_count": 32,
   "id": "d34728cb",
   "metadata": {},
   "outputs": [
    {
     "data": {
      "text/html": [
       "<div>\n",
       "<style scoped>\n",
       "    .dataframe tbody tr th:only-of-type {\n",
       "        vertical-align: middle;\n",
       "    }\n",
       "\n",
       "    .dataframe tbody tr th {\n",
       "        vertical-align: top;\n",
       "    }\n",
       "\n",
       "    .dataframe thead th {\n",
       "        text-align: right;\n",
       "    }\n",
       "</style>\n",
       "<table border=\"1\" class=\"dataframe\">\n",
       "  <thead>\n",
       "    <tr style=\"text-align: right;\">\n",
       "      <th></th>\n",
       "      <th>input</th>\n",
       "      <th>IG</th>\n",
       "    </tr>\n",
       "  </thead>\n",
       "  <tbody>\n",
       "    <tr>\n",
       "      <th>0</th>\n",
       "      <td>bmi</td>\n",
       "      <td>0.444781</td>\n",
       "    </tr>\n",
       "    <tr>\n",
       "      <th>1</th>\n",
       "      <td>children</td>\n",
       "      <td>0.271510</td>\n",
       "    </tr>\n",
       "    <tr>\n",
       "      <th>2</th>\n",
       "      <td>smoker</td>\n",
       "      <td>0.158502</td>\n",
       "    </tr>\n",
       "    <tr>\n",
       "      <th>3</th>\n",
       "      <td>age</td>\n",
       "      <td>0.085557</td>\n",
       "    </tr>\n",
       "    <tr>\n",
       "      <th>4</th>\n",
       "      <td>charges</td>\n",
       "      <td>0.039650</td>\n",
       "    </tr>\n",
       "    <tr>\n",
       "      <th>5</th>\n",
       "      <td>sex</td>\n",
       "      <td>0.000000</td>\n",
       "    </tr>\n",
       "    <tr>\n",
       "      <th>6</th>\n",
       "      <td>region</td>\n",
       "      <td>0.000000</td>\n",
       "    </tr>\n",
       "  </tbody>\n",
       "</table>\n",
       "</div>"
      ],
      "text/plain": [
       "      input        IG\n",
       "0       bmi  0.444781\n",
       "1  children  0.271510\n",
       "2    smoker  0.158502\n",
       "3       age  0.085557\n",
       "4   charges  0.039650\n",
       "5       sex  0.000000\n",
       "6    region  0.000000"
      ]
     },
     "execution_count": 32,
     "metadata": {},
     "output_type": "execute_result"
    }
   ],
   "source": [
    "#check IG\n",
    "dict={\"input\":X.columns,\"IG\":dt_entropy1.feature_importances_}\n",
    "#convert to DataFrame\n",
    "df3=pd.DataFrame(dict)\n",
    "#sorting\n",
    "df3.sort_values(\"IG\",ascending=False,ignore_index=True)\n",
    "#here bmi,children,smoker has good IG"
   ]
  },
  {
   "cell_type": "raw",
   "id": "eac11b3f",
   "metadata": {},
   "source": [
    "#check tree\n",
    "from sklearn import tree\n",
    "features=X.columns\n",
    "plt.figure(figsize=(70,70))\n",
    "_=tree.plot_tree(dt_entropy1,feature_names=features,filled=True)\n",
    "plt.show()"
   ]
  },
  {
   "cell_type": "code",
   "execution_count": 33,
   "id": "5958cc1e",
   "metadata": {},
   "outputs": [],
   "source": [
    "#apply second pruning Tech\n",
    "#min_samples_leaf (entropy)\n",
    "from sklearn.tree import DecisionTreeClassifier"
   ]
  },
  {
   "cell_type": "raw",
   "id": "67a48a1c",
   "metadata": {},
   "source": [
    "#min samples leaf\n",
    "for i in range(45,101):\n",
    "    #crate object of DecisionTreeClassifier\n",
    "    dt2_entropy=DecisionTreeClassifier(random_state=1,criterion='entropy',min_samples_leaf=i)\n",
    "    print(\"min samples leaf \",i)\n",
    "    #call fn\n",
    "    dt2_entropy=create_model(dt2_entropy)"
   ]
  },
  {
   "cell_type": "code",
   "execution_count": 34,
   "id": "278258f3",
   "metadata": {},
   "outputs": [
    {
     "name": "stdout",
     "output_type": "stream",
     "text": [
      "              precision    recall  f1-score   support\n",
      "\n",
      "           0       0.83      0.93      0.88       172\n",
      "           1       0.94      0.86      0.90       230\n",
      "\n",
      "    accuracy                           0.89       402\n",
      "   macro avg       0.89      0.89      0.89       402\n",
      "weighted avg       0.89      0.89      0.89       402\n",
      "\n",
      "[[160  12]\n",
      " [ 33 197]]\n"
     ]
    }
   ],
   "source": [
    "#crate object of DecisionTreeClassifier\n",
    "dt2_entropy=DecisionTreeClassifier(random_state=1,criterion='entropy',min_samples_leaf=45)\n",
    "#call fn\n",
    "dt2_entropy=create_model(dt2_entropy)\n",
    "#here recall is 86%"
   ]
  },
  {
   "cell_type": "code",
   "execution_count": 35,
   "id": "74e0f9f0",
   "metadata": {},
   "outputs": [
    {
     "data": {
      "text/html": [
       "<div>\n",
       "<style scoped>\n",
       "    .dataframe tbody tr th:only-of-type {\n",
       "        vertical-align: middle;\n",
       "    }\n",
       "\n",
       "    .dataframe tbody tr th {\n",
       "        vertical-align: top;\n",
       "    }\n",
       "\n",
       "    .dataframe thead th {\n",
       "        text-align: right;\n",
       "    }\n",
       "</style>\n",
       "<table border=\"1\" class=\"dataframe\">\n",
       "  <thead>\n",
       "    <tr style=\"text-align: right;\">\n",
       "      <th></th>\n",
       "      <th>input</th>\n",
       "      <th>IG</th>\n",
       "    </tr>\n",
       "  </thead>\n",
       "  <tbody>\n",
       "    <tr>\n",
       "      <th>0</th>\n",
       "      <td>bmi</td>\n",
       "      <td>0.470769</td>\n",
       "    </tr>\n",
       "    <tr>\n",
       "      <th>1</th>\n",
       "      <td>children</td>\n",
       "      <td>0.297326</td>\n",
       "    </tr>\n",
       "    <tr>\n",
       "      <th>2</th>\n",
       "      <td>smoker</td>\n",
       "      <td>0.138001</td>\n",
       "    </tr>\n",
       "    <tr>\n",
       "      <th>3</th>\n",
       "      <td>age</td>\n",
       "      <td>0.069889</td>\n",
       "    </tr>\n",
       "    <tr>\n",
       "      <th>4</th>\n",
       "      <td>charges</td>\n",
       "      <td>0.024015</td>\n",
       "    </tr>\n",
       "    <tr>\n",
       "      <th>5</th>\n",
       "      <td>sex</td>\n",
       "      <td>0.000000</td>\n",
       "    </tr>\n",
       "    <tr>\n",
       "      <th>6</th>\n",
       "      <td>region</td>\n",
       "      <td>0.000000</td>\n",
       "    </tr>\n",
       "  </tbody>\n",
       "</table>\n",
       "</div>"
      ],
      "text/plain": [
       "      input        IG\n",
       "0       bmi  0.470769\n",
       "1  children  0.297326\n",
       "2    smoker  0.138001\n",
       "3       age  0.069889\n",
       "4   charges  0.024015\n",
       "5       sex  0.000000\n",
       "6    region  0.000000"
      ]
     },
     "execution_count": 35,
     "metadata": {},
     "output_type": "execute_result"
    }
   ],
   "source": [
    "#check IG\n",
    "dict={\"input\":X.columns,\"IG\":dt2_entropy.feature_importances_}\n",
    "#convert to dataframe\n",
    "df3=pd.DataFrame(dict)\n",
    "#sorting\n",
    "df3.sort_values(\"IG\",ascending=False,ignore_index=True)\n",
    "#here bmi,children,smoker IG is good"
   ]
  },
  {
   "cell_type": "raw",
   "id": "9bfc4933",
   "metadata": {},
   "source": [
    "#draw tree\n",
    "from sklearn import tree\n",
    "features=X.columns\n",
    "plt.figure(figsize=(70,70))\n",
    "_=tree.plot_tree(dt2_entropy,feature_names=features,filled=True)\n",
    "plt.show()"
   ]
  },
  {
   "cell_type": "code",
   "execution_count": 36,
   "id": "0849b598",
   "metadata": {},
   "outputs": [],
   "source": [
    "#ensemble tech\n",
    "#give dataset to Randomforest\n",
    "from sklearn.ensemble import RandomForestClassifier"
   ]
  },
  {
   "cell_type": "raw",
   "id": "bdaaba85",
   "metadata": {},
   "source": [
    "#create object of RandomForestClassifier\n",
    "#here n_estimators means take how many no. of decisiontree\n",
    "for i in range (10,101):\n",
    "    #create object RandomForestClassifier class\n",
    "    rfc=RandomForestClassifier(random_state=1,n_estimators=i)\n",
    "    print(\"no of decision tree \",i)\n",
    "    #call fn\n",
    "    rfc=create_model(rfc)"
   ]
  },
  {
   "cell_type": "code",
   "execution_count": 37,
   "id": "0efb74ac",
   "metadata": {},
   "outputs": [
    {
     "name": "stdout",
     "output_type": "stream",
     "text": [
      "              precision    recall  f1-score   support\n",
      "\n",
      "           0       0.94      0.92      0.93       172\n",
      "           1       0.94      0.96      0.95       230\n",
      "\n",
      "    accuracy                           0.94       402\n",
      "   macro avg       0.94      0.94      0.94       402\n",
      "weighted avg       0.94      0.94      0.94       402\n",
      "\n",
      "[[159  13]\n",
      " [ 10 220]]\n"
     ]
    }
   ],
   "source": [
    "#create object RandomForestClassifier class by deafault gini \n",
    "rfc=RandomForestClassifier(random_state=1,n_estimators=23)\n",
    "#call fn\n",
    "rfc=create_model(rfc)\n",
    "#here recall is 96%"
   ]
  },
  {
   "cell_type": "code",
   "execution_count": 38,
   "id": "7303c120",
   "metadata": {},
   "outputs": [
    {
     "data": {
      "text/html": [
       "<div>\n",
       "<style scoped>\n",
       "    .dataframe tbody tr th:only-of-type {\n",
       "        vertical-align: middle;\n",
       "    }\n",
       "\n",
       "    .dataframe tbody tr th {\n",
       "        vertical-align: top;\n",
       "    }\n",
       "\n",
       "    .dataframe thead th {\n",
       "        text-align: right;\n",
       "    }\n",
       "</style>\n",
       "<table border=\"1\" class=\"dataframe\">\n",
       "  <thead>\n",
       "    <tr style=\"text-align: right;\">\n",
       "      <th></th>\n",
       "      <th>input</th>\n",
       "      <th>IG</th>\n",
       "    </tr>\n",
       "  </thead>\n",
       "  <tbody>\n",
       "    <tr>\n",
       "      <th>0</th>\n",
       "      <td>bmi</td>\n",
       "      <td>0.355741</td>\n",
       "    </tr>\n",
       "    <tr>\n",
       "      <th>1</th>\n",
       "      <td>children</td>\n",
       "      <td>0.243664</td>\n",
       "    </tr>\n",
       "    <tr>\n",
       "      <th>2</th>\n",
       "      <td>charges</td>\n",
       "      <td>0.185629</td>\n",
       "    </tr>\n",
       "    <tr>\n",
       "      <th>3</th>\n",
       "      <td>age</td>\n",
       "      <td>0.097714</td>\n",
       "    </tr>\n",
       "    <tr>\n",
       "      <th>4</th>\n",
       "      <td>smoker</td>\n",
       "      <td>0.080570</td>\n",
       "    </tr>\n",
       "    <tr>\n",
       "      <th>5</th>\n",
       "      <td>region</td>\n",
       "      <td>0.024983</td>\n",
       "    </tr>\n",
       "    <tr>\n",
       "      <th>6</th>\n",
       "      <td>sex</td>\n",
       "      <td>0.011698</td>\n",
       "    </tr>\n",
       "  </tbody>\n",
       "</table>\n",
       "</div>"
      ],
      "text/plain": [
       "      input        IG\n",
       "0       bmi  0.355741\n",
       "1  children  0.243664\n",
       "2   charges  0.185629\n",
       "3       age  0.097714\n",
       "4    smoker  0.080570\n",
       "5    region  0.024983\n",
       "6       sex  0.011698"
      ]
     },
     "execution_count": 38,
     "metadata": {},
     "output_type": "execute_result"
    }
   ],
   "source": [
    "#check IG\n",
    "dict={\"input\":X.columns,\"IG\":rfc.feature_importances_}\n",
    "#convert to dataframe\n",
    "df4=pd.DataFrame(dict)\n",
    "#sorting\n",
    "df4.sort_values(\"IG\",ascending=False,ignore_index=True)\n",
    "#here bmi,children,charges has more IG"
   ]
  },
  {
   "cell_type": "raw",
   "id": "f0c7c48e",
   "metadata": {},
   "source": [
    "#Pruning Technique:max_depth :\n",
    "#n_estimator=23\n",
    "for i in range(1,9): #start=1 stop=9-1=8 step=+1\n",
    "    rfc1=RandomForestClassifier(n_estimators=23,random_state=1,max_depth=i) #bydefault gini\n",
    "    print(\"max depth : \",i)\n",
    "    #call function \n",
    "    rfc1=create_model(rfc1)"
   ]
  },
  {
   "cell_type": "code",
   "execution_count": 39,
   "id": "c0ff01aa",
   "metadata": {},
   "outputs": [
    {
     "name": "stdout",
     "output_type": "stream",
     "text": [
      "              precision    recall  f1-score   support\n",
      "\n",
      "           0       0.91      0.94      0.93       172\n",
      "           1       0.96      0.93      0.94       230\n",
      "\n",
      "    accuracy                           0.94       402\n",
      "   macro avg       0.93      0.94      0.93       402\n",
      "weighted avg       0.94      0.94      0.94       402\n",
      "\n",
      "[[162  10]\n",
      " [ 16 214]]\n"
     ]
    }
   ],
   "source": [
    "rfc1=RandomForestClassifier(n_estimators=23,random_state=1,max_depth=7) #bydefault gini\n",
    "#call function \n",
    "rfc1=create_model(rfc1)\n",
    "#here recall is 93%"
   ]
  },
  {
   "cell_type": "code",
   "execution_count": 40,
   "id": "5b01849f",
   "metadata": {},
   "outputs": [
    {
     "data": {
      "text/html": [
       "<div>\n",
       "<style scoped>\n",
       "    .dataframe tbody tr th:only-of-type {\n",
       "        vertical-align: middle;\n",
       "    }\n",
       "\n",
       "    .dataframe tbody tr th {\n",
       "        vertical-align: top;\n",
       "    }\n",
       "\n",
       "    .dataframe thead th {\n",
       "        text-align: right;\n",
       "    }\n",
       "</style>\n",
       "<table border=\"1\" class=\"dataframe\">\n",
       "  <thead>\n",
       "    <tr style=\"text-align: right;\">\n",
       "      <th></th>\n",
       "      <th>input</th>\n",
       "      <th>IG</th>\n",
       "    </tr>\n",
       "  </thead>\n",
       "  <tbody>\n",
       "    <tr>\n",
       "      <th>0</th>\n",
       "      <td>bmi</td>\n",
       "      <td>0.361959</td>\n",
       "    </tr>\n",
       "    <tr>\n",
       "      <th>1</th>\n",
       "      <td>children</td>\n",
       "      <td>0.266157</td>\n",
       "    </tr>\n",
       "    <tr>\n",
       "      <th>2</th>\n",
       "      <td>charges</td>\n",
       "      <td>0.149398</td>\n",
       "    </tr>\n",
       "    <tr>\n",
       "      <th>3</th>\n",
       "      <td>smoker</td>\n",
       "      <td>0.116851</td>\n",
       "    </tr>\n",
       "    <tr>\n",
       "      <th>4</th>\n",
       "      <td>age</td>\n",
       "      <td>0.081448</td>\n",
       "    </tr>\n",
       "    <tr>\n",
       "      <th>5</th>\n",
       "      <td>region</td>\n",
       "      <td>0.016507</td>\n",
       "    </tr>\n",
       "    <tr>\n",
       "      <th>6</th>\n",
       "      <td>sex</td>\n",
       "      <td>0.007680</td>\n",
       "    </tr>\n",
       "  </tbody>\n",
       "</table>\n",
       "</div>"
      ],
      "text/plain": [
       "      input        IG\n",
       "0       bmi  0.361959\n",
       "1  children  0.266157\n",
       "2   charges  0.149398\n",
       "3    smoker  0.116851\n",
       "4       age  0.081448\n",
       "5    region  0.016507\n",
       "6       sex  0.007680"
      ]
     },
     "execution_count": 40,
     "metadata": {},
     "output_type": "execute_result"
    }
   ],
   "source": [
    "#check information gain :\n",
    "dict={\"input\":X.columns,\"IG\":rfc1.feature_importances_}\n",
    "#convert dict to dataframe\n",
    "df2=pd.DataFrame(dict)\n",
    "#sorting in desending order\n",
    "#change record no as per sorting\n",
    "df2.sort_values('IG',ascending=False,ignore_index=True)"
   ]
  },
  {
   "cell_type": "raw",
   "id": "d5a20b4a",
   "metadata": {},
   "source": [
    "#use 2nd pruning technique min_sample_leaf inbuild parameter of DTC\n",
    "#DecisionTreeClassifier class, it is also used to remove overfitting \n",
    "#create object of DTC\n",
    "for i in range(45,101,1):\n",
    "    \n",
    "    rfc2=RandomForestClassifier(n_estimators=23,random_state=1,min_samples_leaf=i) \n",
    "\n",
    "    #by default gini index\n",
    "    print(\"min samples leaf: \",i)\n",
    "    #call fn\n",
    "    rfc2=create_model(rfc2)"
   ]
  },
  {
   "cell_type": "code",
   "execution_count": 41,
   "id": "d2d6a93e",
   "metadata": {},
   "outputs": [
    {
     "name": "stdout",
     "output_type": "stream",
     "text": [
      "              precision    recall  f1-score   support\n",
      "\n",
      "           0       0.86      0.81      0.83       172\n",
      "           1       0.86      0.90      0.88       230\n",
      "\n",
      "    accuracy                           0.86       402\n",
      "   macro avg       0.86      0.85      0.86       402\n",
      "weighted avg       0.86      0.86      0.86       402\n",
      "\n",
      "[[139  33]\n",
      " [ 23 207]]\n"
     ]
    }
   ],
   "source": [
    "rfc2=RandomForestClassifier(n_estimators=23,random_state=1,min_samples_leaf=55) \n",
    "\n",
    "#by default gini index\n",
    "#call fn\n",
    "rfc2=create_model(rfc2)\n",
    "#here recall is 90%"
   ]
  },
  {
   "cell_type": "code",
   "execution_count": 42,
   "id": "46ec2f71",
   "metadata": {},
   "outputs": [
    {
     "data": {
      "text/html": [
       "<div>\n",
       "<style scoped>\n",
       "    .dataframe tbody tr th:only-of-type {\n",
       "        vertical-align: middle;\n",
       "    }\n",
       "\n",
       "    .dataframe tbody tr th {\n",
       "        vertical-align: top;\n",
       "    }\n",
       "\n",
       "    .dataframe thead th {\n",
       "        text-align: right;\n",
       "    }\n",
       "</style>\n",
       "<table border=\"1\" class=\"dataframe\">\n",
       "  <thead>\n",
       "    <tr style=\"text-align: right;\">\n",
       "      <th></th>\n",
       "      <th>input</th>\n",
       "      <th>IG</th>\n",
       "    </tr>\n",
       "  </thead>\n",
       "  <tbody>\n",
       "    <tr>\n",
       "      <th>0</th>\n",
       "      <td>bmi</td>\n",
       "      <td>0.354092</td>\n",
       "    </tr>\n",
       "    <tr>\n",
       "      <th>1</th>\n",
       "      <td>children</td>\n",
       "      <td>0.254927</td>\n",
       "    </tr>\n",
       "    <tr>\n",
       "      <th>2</th>\n",
       "      <td>smoker</td>\n",
       "      <td>0.168592</td>\n",
       "    </tr>\n",
       "    <tr>\n",
       "      <th>3</th>\n",
       "      <td>charges</td>\n",
       "      <td>0.149655</td>\n",
       "    </tr>\n",
       "    <tr>\n",
       "      <th>4</th>\n",
       "      <td>age</td>\n",
       "      <td>0.060733</td>\n",
       "    </tr>\n",
       "    <tr>\n",
       "      <th>5</th>\n",
       "      <td>sex</td>\n",
       "      <td>0.007194</td>\n",
       "    </tr>\n",
       "    <tr>\n",
       "      <th>6</th>\n",
       "      <td>region</td>\n",
       "      <td>0.004807</td>\n",
       "    </tr>\n",
       "  </tbody>\n",
       "</table>\n",
       "</div>"
      ],
      "text/plain": [
       "      input        IG\n",
       "0       bmi  0.354092\n",
       "1  children  0.254927\n",
       "2    smoker  0.168592\n",
       "3   charges  0.149655\n",
       "4       age  0.060733\n",
       "5       sex  0.007194\n",
       "6    region  0.004807"
      ]
     },
     "execution_count": 42,
     "metadata": {},
     "output_type": "execute_result"
    }
   ],
   "source": [
    "#check information gain :\n",
    "dict={\"input\":X.columns,\"IG\":rfc2.feature_importances_}\n",
    "#convert dict to dataframe\n",
    "df3=pd.DataFrame(dict)\n",
    "#sorting in desending order\n",
    "#change record no as per sorting\n",
    "df3.sort_values('IG',ascending=False,ignore_index=True)"
   ]
  },
  {
   "cell_type": "code",
   "execution_count": 43,
   "id": "4178f093",
   "metadata": {},
   "outputs": [],
   "source": [
    "#give dataset to next boosting tech\n",
    "#1.adaboost\n",
    "#n_estimators means no of decision stump\n",
    "#ADA boost creates decison stump(means one root node and two leaf node)\n",
    "#leaf node means no any child\n",
    "from sklearn.ensemble import AdaBoostClassifier"
   ]
  },
  {
   "cell_type": "code",
   "execution_count": 44,
   "id": "2b8b7a76",
   "metadata": {},
   "outputs": [
    {
     "data": {
      "text/plain": [
       "(1337, 7)"
      ]
     },
     "execution_count": 44,
     "metadata": {},
     "output_type": "execute_result"
    }
   ],
   "source": [
    "X.shape"
   ]
  },
  {
   "cell_type": "raw",
   "id": "262b7806",
   "metadata": {},
   "source": [
    "for i in range(1,8):\n",
    "    #create object of AdaBoostclassifier class\n",
    "    ada=AdaBoostClassifier(random_state=1,n_estimators=i)\n",
    "    print(\"no of decision stump \",i)\n",
    "    #call fn\n",
    "    ada=create_model(ada)"
   ]
  },
  {
   "cell_type": "code",
   "execution_count": 45,
   "id": "05d57dd0",
   "metadata": {},
   "outputs": [
    {
     "name": "stdout",
     "output_type": "stream",
     "text": [
      "              precision    recall  f1-score   support\n",
      "\n",
      "           0       0.86      0.79      0.82       172\n",
      "           1       0.85      0.90      0.88       230\n",
      "\n",
      "    accuracy                           0.85       402\n",
      "   macro avg       0.85      0.85      0.85       402\n",
      "weighted avg       0.85      0.85      0.85       402\n",
      "\n",
      "[[136  36]\n",
      " [ 23 207]]\n"
     ]
    }
   ],
   "source": [
    "#create object of AdaBoostclassifier class\n",
    "ada=AdaBoostClassifier(random_state=1,n_estimators=7)\n",
    "#call fn\n",
    "ada=create_model(ada)\n",
    "#here recall is 90%\n",
    "#hence all features are imp"
   ]
  },
  {
   "cell_type": "code",
   "execution_count": 46,
   "id": "1073e961",
   "metadata": {},
   "outputs": [
    {
     "data": {
      "text/html": [
       "<div>\n",
       "<style scoped>\n",
       "    .dataframe tbody tr th:only-of-type {\n",
       "        vertical-align: middle;\n",
       "    }\n",
       "\n",
       "    .dataframe tbody tr th {\n",
       "        vertical-align: top;\n",
       "    }\n",
       "\n",
       "    .dataframe thead th {\n",
       "        text-align: right;\n",
       "    }\n",
       "</style>\n",
       "<table border=\"1\" class=\"dataframe\">\n",
       "  <thead>\n",
       "    <tr style=\"text-align: right;\">\n",
       "      <th></th>\n",
       "      <th>input</th>\n",
       "      <th>IG</th>\n",
       "    </tr>\n",
       "  </thead>\n",
       "  <tbody>\n",
       "    <tr>\n",
       "      <th>0</th>\n",
       "      <td>bmi</td>\n",
       "      <td>0.428571</td>\n",
       "    </tr>\n",
       "    <tr>\n",
       "      <th>1</th>\n",
       "      <td>children</td>\n",
       "      <td>0.285714</td>\n",
       "    </tr>\n",
       "    <tr>\n",
       "      <th>2</th>\n",
       "      <td>age</td>\n",
       "      <td>0.142857</td>\n",
       "    </tr>\n",
       "    <tr>\n",
       "      <th>3</th>\n",
       "      <td>smoker</td>\n",
       "      <td>0.142857</td>\n",
       "    </tr>\n",
       "    <tr>\n",
       "      <th>4</th>\n",
       "      <td>sex</td>\n",
       "      <td>0.000000</td>\n",
       "    </tr>\n",
       "    <tr>\n",
       "      <th>5</th>\n",
       "      <td>region</td>\n",
       "      <td>0.000000</td>\n",
       "    </tr>\n",
       "    <tr>\n",
       "      <th>6</th>\n",
       "      <td>charges</td>\n",
       "      <td>0.000000</td>\n",
       "    </tr>\n",
       "  </tbody>\n",
       "</table>\n",
       "</div>"
      ],
      "text/plain": [
       "      input        IG\n",
       "0       bmi  0.428571\n",
       "1  children  0.285714\n",
       "2       age  0.142857\n",
       "3    smoker  0.142857\n",
       "4       sex  0.000000\n",
       "5    region  0.000000\n",
       "6   charges  0.000000"
      ]
     },
     "execution_count": 46,
     "metadata": {},
     "output_type": "execute_result"
    }
   ],
   "source": [
    "#check IG\n",
    "#check information gain :\n",
    "dict={\"input\":X.columns,\"IG\":ada.feature_importances_}\n",
    "#convert dict to dataframe\n",
    "df3=pd.DataFrame(dict)\n",
    "#sorting in desending order\n",
    "#change record no as per sorting\n",
    "df3.sort_values('IG',ascending=False,ignore_index=True)"
   ]
  },
  {
   "cell_type": "code",
   "execution_count": 47,
   "id": "e03754d3",
   "metadata": {},
   "outputs": [],
   "source": [
    "#apply second boosting tech GradientBoost\n",
    "from sklearn.ensemble import GradientBoostingClassifier\n",
    "#n_estimator >=10 and <=100"
   ]
  },
  {
   "cell_type": "raw",
   "id": "08c6b783",
   "metadata": {},
   "source": [
    "for i in range (10,101):\n",
    "    #create object of GradientBoostingClassifier class\n",
    "    gbc=GradientBoostingClassifier(random_state=1,n_estimators=i)\n",
    "    print(\"no of estimators \",i)\n",
    "    #call fn\n",
    "    gbc=create_model(gbc)"
   ]
  },
  {
   "cell_type": "code",
   "execution_count": 48,
   "id": "88bda590",
   "metadata": {},
   "outputs": [
    {
     "name": "stdout",
     "output_type": "stream",
     "text": [
      "              precision    recall  f1-score   support\n",
      "\n",
      "           0       0.97      0.95      0.96       172\n",
      "           1       0.96      0.98      0.97       230\n",
      "\n",
      "    accuracy                           0.97       402\n",
      "   macro avg       0.97      0.96      0.96       402\n",
      "weighted avg       0.97      0.97      0.97       402\n",
      "\n",
      "[[163   9]\n",
      " [  5 225]]\n"
     ]
    }
   ],
   "source": [
    "#create object of GradientBoostingClassifier class\n",
    "gbc=GradientBoostingClassifier(random_state=1,n_estimators=88)\n",
    "#call fn\n",
    "gbc=create_model(gbc)\n",
    "#here recall is 98%"
   ]
  },
  {
   "cell_type": "code",
   "execution_count": 49,
   "id": "295fdc04",
   "metadata": {},
   "outputs": [
    {
     "data": {
      "text/html": [
       "<div>\n",
       "<style scoped>\n",
       "    .dataframe tbody tr th:only-of-type {\n",
       "        vertical-align: middle;\n",
       "    }\n",
       "\n",
       "    .dataframe tbody tr th {\n",
       "        vertical-align: top;\n",
       "    }\n",
       "\n",
       "    .dataframe thead th {\n",
       "        text-align: right;\n",
       "    }\n",
       "</style>\n",
       "<table border=\"1\" class=\"dataframe\">\n",
       "  <thead>\n",
       "    <tr style=\"text-align: right;\">\n",
       "      <th></th>\n",
       "      <th>input</th>\n",
       "      <th>IG</th>\n",
       "    </tr>\n",
       "  </thead>\n",
       "  <tbody>\n",
       "    <tr>\n",
       "      <th>0</th>\n",
       "      <td>children</td>\n",
       "      <td>0.354891</td>\n",
       "    </tr>\n",
       "    <tr>\n",
       "      <th>1</th>\n",
       "      <td>bmi</td>\n",
       "      <td>0.324426</td>\n",
       "    </tr>\n",
       "    <tr>\n",
       "      <th>2</th>\n",
       "      <td>smoker</td>\n",
       "      <td>0.203479</td>\n",
       "    </tr>\n",
       "    <tr>\n",
       "      <th>3</th>\n",
       "      <td>charges</td>\n",
       "      <td>0.072293</td>\n",
       "    </tr>\n",
       "    <tr>\n",
       "      <th>4</th>\n",
       "      <td>age</td>\n",
       "      <td>0.044642</td>\n",
       "    </tr>\n",
       "    <tr>\n",
       "      <th>5</th>\n",
       "      <td>region</td>\n",
       "      <td>0.000239</td>\n",
       "    </tr>\n",
       "    <tr>\n",
       "      <th>6</th>\n",
       "      <td>sex</td>\n",
       "      <td>0.000031</td>\n",
       "    </tr>\n",
       "  </tbody>\n",
       "</table>\n",
       "</div>"
      ],
      "text/plain": [
       "      input        IG\n",
       "0  children  0.354891\n",
       "1       bmi  0.324426\n",
       "2    smoker  0.203479\n",
       "3   charges  0.072293\n",
       "4       age  0.044642\n",
       "5    region  0.000239\n",
       "6       sex  0.000031"
      ]
     },
     "execution_count": 49,
     "metadata": {},
     "output_type": "execute_result"
    }
   ],
   "source": [
    "#check IG\n",
    "#check information gain :\n",
    "dict={\"input\":X.columns,\"IG\":gbc.feature_importances_}\n",
    "#convert dict to dataframe\n",
    "df3=pd.DataFrame(dict)\n",
    "#sorting in desending order\n",
    "#change record no as per sorting\n",
    "df3.sort_values('IG',ascending=False,ignore_index=True)"
   ]
  },
  {
   "cell_type": "code",
   "execution_count": 50,
   "id": "24bdfa4c",
   "metadata": {},
   "outputs": [
    {
     "name": "stdout",
     "output_type": "stream",
     "text": [
      "Requirement already satisfied: xgboost in /opt/anaconda3/lib/python3.9/site-packages (1.5.1)\n",
      "Requirement already satisfied: numpy in /opt/anaconda3/lib/python3.9/site-packages (from xgboost) (1.20.3)\n",
      "Requirement already satisfied: scipy in /opt/anaconda3/lib/python3.9/site-packages (from xgboost) (1.7.1)\n"
     ]
    }
   ],
   "source": [
    "#apply 3rd boosting tech extreme gradient boost\n",
    "!pip install xgboost"
   ]
  },
  {
   "cell_type": "code",
   "execution_count": 51,
   "id": "f77efdf4",
   "metadata": {},
   "outputs": [],
   "source": [
    "from xgboost import XGBClassifier"
   ]
  },
  {
   "cell_type": "raw",
   "id": "d415af41",
   "metadata": {},
   "source": [
    "#n_estimator >=10 and <=100\n",
    "for i in range (10,100):\n",
    "    #crate object of XGBClassifier class\n",
    "    xgb=XGBClassifier(random_state=1,n_estimators=i)\n",
    "    print(\"no of estimator \",i)\n",
    "    #call fb\n",
    "    xgb=create_model(xgb)"
   ]
  },
  {
   "cell_type": "code",
   "execution_count": 52,
   "id": "a74996c2",
   "metadata": {},
   "outputs": [
    {
     "name": "stdout",
     "output_type": "stream",
     "text": [
      "[17:54:54] WARNING: /Users/runner/miniforge3/conda-bld/xgboost-split_1645117948562/work/src/learner.cc:1115: Starting in XGBoost 1.3.0, the default evaluation metric used with the objective 'binary:logistic' was changed from 'error' to 'logloss'. Explicitly set eval_metric if you'd like to restore the old behavior.\n",
      "              precision    recall  f1-score   support\n",
      "\n",
      "           0       0.98      0.98      0.98       172\n",
      "           1       0.99      0.99      0.99       230\n",
      "\n",
      "    accuracy                           0.99       402\n",
      "   macro avg       0.98      0.98      0.98       402\n",
      "weighted avg       0.99      0.99      0.99       402\n",
      "\n",
      "[[169   3]\n",
      " [  3 227]]\n"
     ]
    }
   ],
   "source": [
    " #crate object of XGBClassifier class\n",
    "xgb=XGBClassifier(random_state=1,n_estimators=17)\n",
    "#call fb\n",
    "xgb=create_model(xgb)\n",
    "#here recall is 99%"
   ]
  },
  {
   "cell_type": "code",
   "execution_count": 53,
   "id": "17686535",
   "metadata": {},
   "outputs": [
    {
     "data": {
      "text/html": [
       "<div>\n",
       "<style scoped>\n",
       "    .dataframe tbody tr th:only-of-type {\n",
       "        vertical-align: middle;\n",
       "    }\n",
       "\n",
       "    .dataframe tbody tr th {\n",
       "        vertical-align: top;\n",
       "    }\n",
       "\n",
       "    .dataframe thead th {\n",
       "        text-align: right;\n",
       "    }\n",
       "</style>\n",
       "<table border=\"1\" class=\"dataframe\">\n",
       "  <thead>\n",
       "    <tr style=\"text-align: right;\">\n",
       "      <th></th>\n",
       "      <th>input</th>\n",
       "      <th>IG</th>\n",
       "    </tr>\n",
       "  </thead>\n",
       "  <tbody>\n",
       "    <tr>\n",
       "      <th>0</th>\n",
       "      <td>smoker</td>\n",
       "      <td>0.385389</td>\n",
       "    </tr>\n",
       "    <tr>\n",
       "      <th>1</th>\n",
       "      <td>children</td>\n",
       "      <td>0.273664</td>\n",
       "    </tr>\n",
       "    <tr>\n",
       "      <th>2</th>\n",
       "      <td>bmi</td>\n",
       "      <td>0.142210</td>\n",
       "    </tr>\n",
       "    <tr>\n",
       "      <th>3</th>\n",
       "      <td>age</td>\n",
       "      <td>0.093992</td>\n",
       "    </tr>\n",
       "    <tr>\n",
       "      <th>4</th>\n",
       "      <td>sex</td>\n",
       "      <td>0.047888</td>\n",
       "    </tr>\n",
       "    <tr>\n",
       "      <th>5</th>\n",
       "      <td>charges</td>\n",
       "      <td>0.040867</td>\n",
       "    </tr>\n",
       "    <tr>\n",
       "      <th>6</th>\n",
       "      <td>region</td>\n",
       "      <td>0.015991</td>\n",
       "    </tr>\n",
       "  </tbody>\n",
       "</table>\n",
       "</div>"
      ],
      "text/plain": [
       "      input        IG\n",
       "0    smoker  0.385389\n",
       "1  children  0.273664\n",
       "2       bmi  0.142210\n",
       "3       age  0.093992\n",
       "4       sex  0.047888\n",
       "5   charges  0.040867\n",
       "6    region  0.015991"
      ]
     },
     "execution_count": 53,
     "metadata": {},
     "output_type": "execute_result"
    }
   ],
   "source": [
    "#check imp features\n",
    "#check information gain :\n",
    "dict={\"input\":X.columns,\"IG\":xgb.feature_importances_}\n",
    "#convert dict to dataframe\n",
    "df3=pd.DataFrame(dict)\n",
    "#sorting in desending order\n",
    "#change record no as per sorting\n",
    "df3.sort_values('IG',ascending=False,ignore_index=True)"
   ]
  },
  {
   "cell_type": "code",
   "execution_count": 54,
   "id": "a5939786",
   "metadata": {},
   "outputs": [],
   "source": [
    "#apply KNN algo\n",
    "from sklearn.neighbors import KNeighborsClassifier"
   ]
  },
  {
   "cell_type": "code",
   "execution_count": 55,
   "id": "971e70c5",
   "metadata": {},
   "outputs": [],
   "source": [
    "#create object of KNeighborsClassifier class\n",
    "#p=2 means Euclidean distance method \n",
    "knc=KNeighborsClassifier(n_neighbors=5,metric=\"minkowski\",p=2)"
   ]
  },
  {
   "cell_type": "code",
   "execution_count": 56,
   "id": "634b7ee6",
   "metadata": {},
   "outputs": [
    {
     "name": "stdout",
     "output_type": "stream",
     "text": [
      "              precision    recall  f1-score   support\n",
      "\n",
      "           0       0.88      0.87      0.87       172\n",
      "           1       0.90      0.91      0.90       230\n",
      "\n",
      "    accuracy                           0.89       402\n",
      "   macro avg       0.89      0.89      0.89       402\n",
      "weighted avg       0.89      0.89      0.89       402\n",
      "\n",
      "[[149  23]\n",
      " [ 21 209]]\n"
     ]
    }
   ],
   "source": [
    "#call fn\n",
    "knc=create_model(knc)\n",
    "#here recall is 91%"
   ]
  },
  {
   "cell_type": "code",
   "execution_count": 57,
   "id": "55f295c7",
   "metadata": {},
   "outputs": [],
   "source": [
    "#apply support vector machine \n",
    "#1.give to linear svc\n",
    "from sklearn.svm import LinearSVC"
   ]
  },
  {
   "cell_type": "code",
   "execution_count": 58,
   "id": "6d422e22",
   "metadata": {},
   "outputs": [],
   "source": [
    "#create object of LinearSVC\n",
    "svc=LinearSVC(random_state=1)"
   ]
  },
  {
   "cell_type": "code",
   "execution_count": 59,
   "id": "1929218b",
   "metadata": {},
   "outputs": [
    {
     "name": "stdout",
     "output_type": "stream",
     "text": [
      "              precision    recall  f1-score   support\n",
      "\n",
      "           0       0.88      0.85      0.87       172\n",
      "           1       0.89      0.92      0.90       230\n",
      "\n",
      "    accuracy                           0.89       402\n",
      "   macro avg       0.89      0.88      0.89       402\n",
      "weighted avg       0.89      0.89      0.89       402\n",
      "\n",
      "[[146  26]\n",
      " [ 19 211]]\n"
     ]
    }
   ],
   "source": [
    "#call fn\n",
    "svc=create_model(svc)\n",
    "#here recall is 92%"
   ]
  },
  {
   "cell_type": "code",
   "execution_count": 60,
   "id": "0a02572e",
   "metadata": {},
   "outputs": [],
   "source": [
    "#give data to kernal fn\n",
    "from sklearn.svm import SVC\n",
    "poly_svc=SVC(random_state=1,kernel=\"poly\")"
   ]
  },
  {
   "cell_type": "code",
   "execution_count": 61,
   "id": "e7163dd2",
   "metadata": {},
   "outputs": [
    {
     "name": "stdout",
     "output_type": "stream",
     "text": [
      "              precision    recall  f1-score   support\n",
      "\n",
      "           0       0.87      0.91      0.89       172\n",
      "           1       0.93      0.90      0.91       230\n",
      "\n",
      "    accuracy                           0.90       402\n",
      "   macro avg       0.90      0.90      0.90       402\n",
      "weighted avg       0.90      0.90      0.90       402\n",
      "\n",
      "[[156  16]\n",
      " [ 24 206]]\n"
     ]
    }
   ],
   "source": [
    "#call fn\n",
    "poly_svc=create_model(poly_svc)\n",
    "#here recall is 90%"
   ]
  },
  {
   "cell_type": "code",
   "execution_count": 62,
   "id": "4f69acc1",
   "metadata": {},
   "outputs": [],
   "source": [
    "#give data to rad\n",
    "#give data to kernal fn\n",
    "from sklearn.svm import SVC\n",
    "rad_svc=SVC(random_state=1,kernel=\"rbf\")"
   ]
  },
  {
   "cell_type": "code",
   "execution_count": 63,
   "id": "97260045",
   "metadata": {},
   "outputs": [
    {
     "name": "stdout",
     "output_type": "stream",
     "text": [
      "              precision    recall  f1-score   support\n",
      "\n",
      "           0       0.84      0.94      0.89       172\n",
      "           1       0.95      0.87      0.91       230\n",
      "\n",
      "    accuracy                           0.90       402\n",
      "   macro avg       0.90      0.90      0.90       402\n",
      "weighted avg       0.90      0.90      0.90       402\n",
      "\n",
      "[[161  11]\n",
      " [ 30 200]]\n"
     ]
    }
   ],
   "source": [
    "#call fn\n",
    "rad_svc=create_model(rad_svc)\n",
    "#here recall is 87%"
   ]
  },
  {
   "cell_type": "code",
   "execution_count": 64,
   "id": "705328bc",
   "metadata": {},
   "outputs": [],
   "source": [
    "#so here recall is reduced so my data is linear"
   ]
  },
  {
   "cell_type": "raw",
   "id": "06d4bed7",
   "metadata": {},
   "source": [
    "# conclusion\n",
    "LogisticRegression recall is 89%\n",
    "\n",
    "DecsionTreeClassifier(Gini) recall is 96%\n",
    "DecsionTreeClassifier(Gini),max depth recall is 94%\n",
    "DecsionTreeClassifier(Gini),min samples leaf recall is 85%\n",
    "\n",
    "DecsionTreeClassifier(Entropy) recall is 98%\n",
    "DecsionTreeClassifier(Entropy),max depth recall is 99%\n",
    "DecsionTreeClassifier(Entropy),min samples leaf recall is 86%\n",
    "\n",
    "RandomForestClassifier recall is 96%\n",
    "RandomForestClassifier(max depth) recall is 93%\n",
    "RandomForestClassifier(min samples leaf )recall is 90%\n",
    "\n",
    "AdaBoostClassifier recall is 90%\n",
    "GradientBoostingClassifier recall is 98%\n",
    "XGBClassifier recall is 99%\n",
    "\n",
    "LinearSVC recall is 92%\n",
    "poly_svc recall is 90%\n",
    "radial_svc recall is 87%\n",
    "\n",
    "KNeighborsClassifier recall is 91%\n",
    "\n",
    "overall all technique Decisontree entropy (max depth)\n",
    "recall is 99% is best because has 3 recall 2 precsion"
   ]
  }
 ],
 "metadata": {
  "kernelspec": {
   "display_name": "Python 3 (ipykernel)",
   "language": "python",
   "name": "python3"
  },
  "language_info": {
   "codemirror_mode": {
    "name": "ipython",
    "version": 3
   },
   "file_extension": ".py",
   "mimetype": "text/x-python",
   "name": "python",
   "nbconvert_exporter": "python",
   "pygments_lexer": "ipython3",
   "version": "3.9.13"
  }
 },
 "nbformat": 4,
 "nbformat_minor": 5
}
